{
  "nbformat": 4,
  "nbformat_minor": 0,
  "metadata": {
    "colab": {
      "name": "quora.ipynb",
      "version": "0.3.2",
      "provenance": [],
      "include_colab_link": true
    },
    "kernelspec": {
      "display_name": "Python 3",
      "language": "python",
      "name": "python3"
    }
  },
  "cells": [
    {
      "cell_type": "markdown",
      "metadata": {
        "id": "view-in-github",
        "colab_type": "text"
      },
      "source": [
        "<a href=\"https://colab.research.google.com/github/irahulcse/Data-Science-Work-For-Quora/blob/master/quora.ipynb\" target=\"_parent\"><img src=\"https://colab.research.google.com/assets/colab-badge.svg\" alt=\"Open In Colab\"/></a>"
      ]
    },
    {
      "metadata": {
        "id": "xTMTUtG5dMkS",
        "colab_type": "text"
      },
      "cell_type": "markdown",
      "source": [
        " # Quora Data Framework"
      ]
    },
    {
      "metadata": {
        "id": "D72Mjjn_dMkb",
        "colab_type": "code",
        "colab": {},
        "outputId": "0fbaaecd-e7a7-4bdd-8f38-fb50dbbc1428"
      },
      "cell_type": "code",
      "source": [
        "from sklearn.model_selection import train_test_split\n",
        "from sklearn.metrics import classification_report\n",
        "from sklearn.metrics import confusion_matrix\n",
        "from sklearn.metrics import accuracy_score\n",
        "from wordcloud import WordCloud as wc\n",
        "from nltk.corpus import stopwords\n",
        "import matplotlib.pylab as pylab\n",
        "import matplotlib.pyplot as plt\n",
        "from pandas import get_dummies\n",
        "import matplotlib as mpl\n",
        "import seaborn as sns\n",
        "import pandas as pd\n",
        "import numpy as np\n",
        "import matplotlib\n",
        "import warnings\n",
        "from sklearn.ensemble import RandomForestClassifier\n",
        "import sklearn\n",
        "import string\n",
        "import scipy\n",
        "import numpy\n",
        "import nltk\n",
        "import json\n",
        "import sys\n",
        "import csv\n",
        "import os\n",
        "nltk.download('averaged_perceptron_tagger')\n",
        "nltk.download(\"stopwords\")"
      ],
      "execution_count": 0,
      "outputs": [
        {
          "output_type": "stream",
          "text": [
            "[nltk_data] Downloading package averaged_perceptron_tagger to\n",
            "[nltk_data]     /home/rahul/nltk_data...\n",
            "[nltk_data]   Package averaged_perceptron_tagger is already up-to-\n",
            "[nltk_data]       date!\n",
            "[nltk_data] Downloading package stopwords to /home/rahul/nltk_data...\n",
            "[nltk_data]   Package stopwords is already up-to-date!\n"
          ],
          "name": "stderr"
        },
        {
          "output_type": "execute_result",
          "data": {
            "text/plain": [
              "True"
            ]
          },
          "metadata": {
            "tags": []
          },
          "execution_count": 4
        }
      ]
    },
    {
      "metadata": {
        "id": "TO8GyTordMkz",
        "colab_type": "text"
      },
      "cell_type": "markdown",
      "source": [
        " # Version of the different libraries"
      ]
    },
    {
      "metadata": {
        "id": "BcZiaAjxdMk6",
        "colab_type": "code",
        "colab": {},
        "outputId": "0ee2fa4d-86c0-4935-f6a4-af3176a80f38"
      },
      "cell_type": "code",
      "source": [
        "print('matplotlib: {}'.format(matplotlib.__version__))\n",
        "print('sklearn: {}'.format(sklearn.__version__))\n",
        "print('scipy: {}'.format(scipy.__version__))\n",
        "print('seaborn: {}'.format(sns.__version__))\n",
        "print('pandas: {}'.format(pd.__version__))\n",
        "print('numpy: {}'.format(np.__version__))\n",
        "print('Python: {}'.format(sys.version))\n"
      ],
      "execution_count": 0,
      "outputs": [
        {
          "output_type": "stream",
          "text": [
            "matplotlib: 2.2.2\n",
            "sklearn: 0.20.2\n",
            "scipy: 1.1.0\n",
            "seaborn: 0.9.0\n",
            "pandas: 0.23.4\n",
            "numpy: 1.15.1\n",
            "Python: 3.6.7 (default, Oct 22 2018, 11:32:17) \n",
            "[GCC 8.2.0]\n"
          ],
          "name": "stdout"
        }
      ]
    },
    {
      "metadata": {
        "id": "xX2CrR_ldMlL",
        "colab_type": "text"
      },
      "cell_type": "markdown",
      "source": [
        " # Getting alll the data from nltk stopwords"
      ]
    },
    {
      "metadata": {
        "id": "38OjghCcdMlO",
        "colab_type": "code",
        "colab": {}
      },
      "cell_type": "code",
      "source": [
        "from nltk.tokenize import sent_tokenize,word_tokenize\n",
        "from nltk.corpus import stopwords\n",
        "data = \"All work and no play makes jack dull boy. All work and no play makes jack a dull boy.\""
      ],
      "execution_count": 0,
      "outputs": []
    },
    {
      "metadata": {
        "id": "FpNrc_JMdMlY",
        "colab_type": "text"
      },
      "cell_type": "markdown",
      "source": [
        " # Print the tokenize data"
      ]
    },
    {
      "metadata": {
        "id": "BeDcOYVydMlb",
        "colab_type": "code",
        "colab": {},
        "outputId": "7637932f-cc58-4e2d-ff47-63e6f459daad"
      },
      "cell_type": "code",
      "source": [
        "print(word_tokenize(data))\n",
        "print(sent_tokenize(data))\n",
        "\n",
        "\n",
        "\n",
        "# stopWords=set(stopwords.words('english'))\n",
        "# words=word_tokenize(data)\n",
        "# wordsFiltered=[]\n",
        "\n",
        "# for w in words:\n",
        "#     if w in stopWords:\n",
        "#         wordsFiltered.append(w)\n",
        "# print(wordsFiltered)\n",
        "\n",
        "from nltk.stem import PorterStemmer\n",
        "from nltk.tokenize import sent_tokenize,word_tokenize\n",
        "\n",
        "words=[\"game\",\"gaming\",\"gamed\",\"games\"]\n",
        "ps=PorterStemmer()\n",
        "\n",
        "for word in words:\n",
        "    print(ps.stem(word))\n",
        "\n",
        "from nltk.tokenize import PunktSentenceTokenizer\n",
        "\n",
        "sentences=nltk.sent_tokenize(data)\n",
        "for set in sentences:\n",
        "    print(nltk.pos_tag(nltk.word_tokenize(set)))"
      ],
      "execution_count": 0,
      "outputs": [
        {
          "output_type": "stream",
          "text": [
            "['All', 'work', 'and', 'no', 'play', 'makes', 'jack', 'dull', 'boy', '.', 'All', 'work', 'and', 'no', 'play', 'makes', 'jack', 'a', 'dull', 'boy', '.']\n",
            "['All work and no play makes jack dull boy.', 'All work and no play makes jack a dull boy.']\n",
            "game\n",
            "game\n",
            "game\n",
            "game\n",
            "[('All', 'DT'), ('work', 'NN'), ('and', 'CC'), ('no', 'DT'), ('play', 'NN'), ('makes', 'VBZ'), ('jack', 'NN'), ('dull', 'JJ'), ('boy', 'NN'), ('.', '.')]\n",
            "[('All', 'DT'), ('work', 'NN'), ('and', 'CC'), ('no', 'DT'), ('play', 'NN'), ('makes', 'VBZ'), ('jack', 'RP'), ('a', 'DT'), ('dull', 'JJ'), ('boy', 'NN'), ('.', '.')]\n"
          ],
          "name": "stdout"
        }
      ]
    },
    {
      "metadata": {
        "id": "nbUh6ZaydMlp",
        "colab_type": "text"
      },
      "cell_type": "markdown",
      "source": [
        " # How to make the use of the sns i am not able to get it in poproperly"
      ]
    },
    {
      "metadata": {
        "id": "Y-5j17TmdMlt",
        "colab_type": "code",
        "colab": {}
      },
      "cell_type": "code",
      "source": [
        "sns.set(style='white',context='notebook',palette=\"deep\")"
      ],
      "execution_count": 0,
      "outputs": []
    },
    {
      "metadata": {
        "id": "niofMUVodMl6",
        "colab_type": "text"
      },
      "cell_type": "markdown",
      "source": [
        " # EDA\n",
        " ## I will be going to write the diffrent exploratoion technique which can be used to explore the dataset"
      ]
    },
    {
      "metadata": {
        "id": "87C_F1R3dMl8",
        "colab_type": "code",
        "colab": {},
        "outputId": "a902846b-2b1c-4361-fb37-abd13c4a8ef3"
      },
      "cell_type": "code",
      "source": [
        "train=pd.read_csv('/home/rahul/Desktop/Link to rahul_environment/Projects/Machine_Learning Projects/Quora_DataFramework/train.csv')\n",
        "test=pd.read_csv('/home/rahul/Desktop/Link to rahul_environment/Projects/Machine_Learning Projects/Quora_DataFramework/test.csv')\n",
        "print('shape of the train',train.shape)\n",
        "print('shape of the test',test.shape)\n",
        "\n",
        "train.size # finding the size of the training set\n",
        "type(train) # tells us about the object type\n",
        "train.describe() #describe use us about the data\n",
        "train.sample(5)"
      ],
      "execution_count": 0,
      "outputs": [
        {
          "output_type": "stream",
          "text": [
            "shape of the train (1306122, 3)\n",
            "shape of the test (375806, 2)\n"
          ],
          "name": "stdout"
        },
        {
          "output_type": "execute_result",
          "data": {
            "text/html": [
              "<div>\n",
              "<style scoped>\n",
              "    .dataframe tbody tr th:only-of-type {\n",
              "        vertical-align: middle;\n",
              "    }\n",
              "\n",
              "    .dataframe tbody tr th {\n",
              "        vertical-align: top;\n",
              "    }\n",
              "\n",
              "    .dataframe thead th {\n",
              "        text-align: right;\n",
              "    }\n",
              "</style>\n",
              "<table border=\"1\" class=\"dataframe\">\n",
              "  <thead>\n",
              "    <tr style=\"text-align: right;\">\n",
              "      <th></th>\n",
              "      <th>qid</th>\n",
              "      <th>question_text</th>\n",
              "      <th>target</th>\n",
              "    </tr>\n",
              "  </thead>\n",
              "  <tbody>\n",
              "    <tr>\n",
              "      <th>110493</th>\n",
              "      <td>159fe287bb3e73b651fc</td>\n",
              "      <td>My WBJEE SC rank is 1100. Can I get any govern...</td>\n",
              "      <td>0</td>\n",
              "    </tr>\n",
              "    <tr>\n",
              "      <th>327575</th>\n",
              "      <td>40355e26e3a036d6e793</td>\n",
              "      <td>What is the temp for 1000 watt microwave for 1...</td>\n",
              "      <td>0</td>\n",
              "    </tr>\n",
              "    <tr>\n",
              "      <th>1089095</th>\n",
              "      <td>d56dcd19b5547df89a90</td>\n",
              "      <td>When you say you agree or disagree about the s...</td>\n",
              "      <td>0</td>\n",
              "    </tr>\n",
              "    <tr>\n",
              "      <th>710063</th>\n",
              "      <td>8b025d28e63212a9fdaf</td>\n",
              "      <td>Can I embed games written in C++ on a Google w...</td>\n",
              "      <td>0</td>\n",
              "    </tr>\n",
              "    <tr>\n",
              "      <th>760391</th>\n",
              "      <td>94fbf5495fcfafd8641e</td>\n",
              "      <td>Does eating goat meat increase the growth of f...</td>\n",
              "      <td>0</td>\n",
              "    </tr>\n",
              "  </tbody>\n",
              "</table>\n",
              "</div>"
            ],
            "text/plain": [
              "                          qid  \\\n",
              "110493   159fe287bb3e73b651fc   \n",
              "327575   40355e26e3a036d6e793   \n",
              "1089095  d56dcd19b5547df89a90   \n",
              "710063   8b025d28e63212a9fdaf   \n",
              "760391   94fbf5495fcfafd8641e   \n",
              "\n",
              "                                             question_text  target  \n",
              "110493   My WBJEE SC rank is 1100. Can I get any govern...       0  \n",
              "327575   What is the temp for 1000 watt microwave for 1...       0  \n",
              "1089095  When you say you agree or disagree about the s...       0  \n",
              "710063   Can I embed games written in C++ on a Google w...       0  \n",
              "760391   Does eating goat meat increase the growth of f...       0  "
            ]
          },
          "metadata": {
            "tags": []
          },
          "execution_count": 9
        }
      ]
    },
    {
      "metadata": {
        "id": "Sj6xLMQIdMmX",
        "colab_type": "text"
      },
      "cell_type": "markdown",
      "source": [
        " # Data Cleaning\n",
        " # for finding that there is any kind of the null element is present or not(sum of the null values)"
      ]
    },
    {
      "metadata": {
        "id": "ZFG_r1FedMma",
        "colab_type": "code",
        "colab": {},
        "outputId": "77409dab-3201-40b6-d16d-daf79073dc48"
      },
      "cell_type": "code",
      "source": [
        "train.isnull().sum()\n",
        "# # but if we have the null values used it for finding the result in the dataset\n",
        "print('Before Dropping the items',train.shape)\n",
        "train=train.dropna()\n",
        "print('After droping',train.shape)"
      ],
      "execution_count": 0,
      "outputs": [
        {
          "output_type": "stream",
          "text": [
            "Before Dropping the items (1306122, 3)\n",
            "After droping (1306122, 3)\n"
          ],
          "name": "stdout"
        }
      ]
    },
    {
      "metadata": {
        "id": "p98hJtakdMmn",
        "colab_type": "text"
      },
      "cell_type": "markdown",
      "source": [
        " # for finding the unique items for the target with command below:\n",
        " # getting all the unique from the dataset"
      ]
    },
    {
      "metadata": {
        "id": "xD3YaxifdMmq",
        "colab_type": "code",
        "colab": {},
        "outputId": "25a9fb3b-c48d-49ae-b076-f38c27b8fe8b"
      },
      "cell_type": "code",
      "source": [
        "train_target=train['target'].values\n",
        "np.unique(train_target)\n",
        "\n",
        "train.head(5)\n",
        "\n",
        "train.tail(5)\n",
        "\n",
        "train.describe()"
      ],
      "execution_count": 0,
      "outputs": [
        {
          "output_type": "execute_result",
          "data": {
            "text/html": [
              "<div>\n",
              "<style scoped>\n",
              "    .dataframe tbody tr th:only-of-type {\n",
              "        vertical-align: middle;\n",
              "    }\n",
              "\n",
              "    .dataframe tbody tr th {\n",
              "        vertical-align: top;\n",
              "    }\n",
              "\n",
              "    .dataframe thead th {\n",
              "        text-align: right;\n",
              "    }\n",
              "</style>\n",
              "<table border=\"1\" class=\"dataframe\">\n",
              "  <thead>\n",
              "    <tr style=\"text-align: right;\">\n",
              "      <th></th>\n",
              "      <th>target</th>\n",
              "    </tr>\n",
              "  </thead>\n",
              "  <tbody>\n",
              "    <tr>\n",
              "      <th>count</th>\n",
              "      <td>1.306122e+06</td>\n",
              "    </tr>\n",
              "    <tr>\n",
              "      <th>mean</th>\n",
              "      <td>6.187018e-02</td>\n",
              "    </tr>\n",
              "    <tr>\n",
              "      <th>std</th>\n",
              "      <td>2.409197e-01</td>\n",
              "    </tr>\n",
              "    <tr>\n",
              "      <th>min</th>\n",
              "      <td>0.000000e+00</td>\n",
              "    </tr>\n",
              "    <tr>\n",
              "      <th>25%</th>\n",
              "      <td>0.000000e+00</td>\n",
              "    </tr>\n",
              "    <tr>\n",
              "      <th>50%</th>\n",
              "      <td>0.000000e+00</td>\n",
              "    </tr>\n",
              "    <tr>\n",
              "      <th>75%</th>\n",
              "      <td>0.000000e+00</td>\n",
              "    </tr>\n",
              "    <tr>\n",
              "      <th>max</th>\n",
              "      <td>1.000000e+00</td>\n",
              "    </tr>\n",
              "  </tbody>\n",
              "</table>\n",
              "</div>"
            ],
            "text/plain": [
              "             target\n",
              "count  1.306122e+06\n",
              "mean   6.187018e-02\n",
              "std    2.409197e-01\n",
              "min    0.000000e+00\n",
              "25%    0.000000e+00\n",
              "50%    0.000000e+00\n",
              "75%    0.000000e+00\n",
              "max    1.000000e+00"
            ]
          },
          "metadata": {
            "tags": []
          },
          "execution_count": 11
        }
      ]
    },
    {
      "metadata": {
        "id": "lIOEVgkDdMm0",
        "colab_type": "text"
      },
      "cell_type": "markdown",
      "source": [
        "** Data preprocessing refers to the transformations applied to our data before feeding it to the algorithm.\n",
        " Data Preprocessing is a technique that is used to convert the raw data into a clean data set. In other words, whenever the data is gathered from different sources it is collected in raw format which is not feasible for the analysis. there are plenty of steps for data preprocessing and we just listed some of them in general(Not just for Quora) :\n",
        "     removing Target column (id)\n",
        "     Sampling (without replacement)\n",
        "     Making part of iris unbalanced and balancing (with undersampling and SMOTE)\n",
        "     Introducing missing values and treating them (replacing by average values)\n",
        "     Noise filtering\n",
        "     Data discretization\n",
        "     Normalization and standardization\n",
        "     PCA analysis\n",
        "     Feature selection (filter, embedded, wrapper)\n",
        "     Etc.\n",
        " now we will be going to perfrom some queries on the dataset**"
      ]
    },
    {
      "metadata": {
        "id": "fgakr--XdMm3",
        "colab_type": "code",
        "colab": {},
        "outputId": "81eff587-1464-4ceb-9453-b610212a8aa3"
      },
      "cell_type": "code",
      "source": [
        "train.where(train['target']==1).count()\n",
        "\n",
        "\n",
        "train[train['target']>1]\n",
        "\n",
        "train.where(train['target']==1).head(5)\n",
        "\n",
        "\n"
      ],
      "execution_count": 0,
      "outputs": [
        {
          "output_type": "execute_result",
          "data": {
            "text/html": [
              "<div>\n",
              "<style scoped>\n",
              "    .dataframe tbody tr th:only-of-type {\n",
              "        vertical-align: middle;\n",
              "    }\n",
              "\n",
              "    .dataframe tbody tr th {\n",
              "        vertical-align: top;\n",
              "    }\n",
              "\n",
              "    .dataframe thead th {\n",
              "        text-align: right;\n",
              "    }\n",
              "</style>\n",
              "<table border=\"1\" class=\"dataframe\">\n",
              "  <thead>\n",
              "    <tr style=\"text-align: right;\">\n",
              "      <th></th>\n",
              "      <th>qid</th>\n",
              "      <th>question_text</th>\n",
              "      <th>target</th>\n",
              "    </tr>\n",
              "  </thead>\n",
              "  <tbody>\n",
              "    <tr>\n",
              "      <th>0</th>\n",
              "      <td>NaN</td>\n",
              "      <td>NaN</td>\n",
              "      <td>NaN</td>\n",
              "    </tr>\n",
              "    <tr>\n",
              "      <th>1</th>\n",
              "      <td>NaN</td>\n",
              "      <td>NaN</td>\n",
              "      <td>NaN</td>\n",
              "    </tr>\n",
              "    <tr>\n",
              "      <th>2</th>\n",
              "      <td>NaN</td>\n",
              "      <td>NaN</td>\n",
              "      <td>NaN</td>\n",
              "    </tr>\n",
              "    <tr>\n",
              "      <th>3</th>\n",
              "      <td>NaN</td>\n",
              "      <td>NaN</td>\n",
              "      <td>NaN</td>\n",
              "    </tr>\n",
              "    <tr>\n",
              "      <th>4</th>\n",
              "      <td>NaN</td>\n",
              "      <td>NaN</td>\n",
              "      <td>NaN</td>\n",
              "    </tr>\n",
              "  </tbody>\n",
              "</table>\n",
              "</div>"
            ],
            "text/plain": [
              "   qid question_text  target\n",
              "0  NaN           NaN     NaN\n",
              "1  NaN           NaN     NaN\n",
              "2  NaN           NaN     NaN\n",
              "3  NaN           NaN     NaN\n",
              "4  NaN           NaN     NaN"
            ]
          },
          "metadata": {
            "tags": []
          },
          "execution_count": 12
        }
      ]
    },
    {
      "metadata": {
        "id": "NdFj8yywdMnF",
        "colab_type": "text"
      },
      "cell_type": "markdown",
      "source": [
        "** Imbalanced dataset is relevant primarily in the context of supervised machine learning involving two or more classes.\n",
        " Imbalance means that the number of data points available for different the classes is different: If there are two classes, then balanced data would mean 50% points for each of the class. For most machine learning techniques, little imbalance is not a problem. So, if there are 60% points for one class and 40% for the other class, it should not cause any significant performance degradation. Only when the class imbalance is high, e.g. 90% points for one class and 10% for the other, standard optimization criteria or performance measures may not be as effective and would need modification.\n",
        " Now  we will be going to  explore the exploreing  question**"
      ]
    },
    {
      "metadata": {
        "id": "tlbYPxxRdMnH",
        "colab_type": "code",
        "colab": {},
        "outputId": "cc3e528f-bcfc-4ca2-8e9d-6092c2c15472"
      },
      "cell_type": "code",
      "source": [
        "question=train['question_text']\n",
        "i=0\n",
        "for q in question[:5]:\n",
        "        i=i+1\n",
        "        print(\"Question came from the Quora Data_set==\"+q)\n",
        "\n",
        "train[\"num_words\"] = train[\"question_text\"].apply(lambda x: len(str(x).split()))"
      ],
      "execution_count": 0,
      "outputs": [
        {
          "output_type": "stream",
          "text": [
            "Question came from the Quora Data_set==How did Quebec nationalists see their province as a nation in the 1960s?\n",
            "Question came from the Quora Data_set==Do you have an adopted dog, how would you encourage people to adopt and not shop?\n",
            "Question came from the Quora Data_set==Why does velocity affect time? Does velocity affect space geometry?\n",
            "Question came from the Quora Data_set==How did Otto von Guericke used the Magdeburg hemispheres?\n",
            "Question came from the Quora Data_set==Can I convert montra helicon D to a mountain bike by just changing the tyres?\n"
          ],
          "name": "stdout"
        }
      ]
    },
    {
      "metadata": {
        "id": "DNQHc3xhdMnW",
        "colab_type": "text"
      },
      "cell_type": "markdown",
      "source": [
        " # Some Feature Engineering\n",
        " eng_stopwords=set(stopwords.words(\"english\"))\n",
        " print(len(eng_stopwords))\n",
        " print(eng_stopwords)"
      ]
    },
    {
      "metadata": {
        "id": "S4OF39MHdMnb",
        "colab_type": "code",
        "colab": {},
        "outputId": "d881623c-384e-48d8-a9d2-026aa6c20dca"
      },
      "cell_type": "code",
      "source": [
        "print(train.columns)\n",
        "train.head()\n",
        "\n",
        "# # Count Plot\n",
        "ax=sns.countplot(x='target',hue='target',data=train,linewidth=5,edgecolor=sns.color_palette(\"dark\",3))\n",
        "plt.title('Is data set imbalance')\n",
        "plt.show()\n",
        "plt.savefig('targetsetimbalance')\n",
        "\n",
        "ax=train['target'].value_counts().plot.pie(explode=[0,0.1],autopct='%1.1f%%',shadow=True)\n",
        "ax.set_title('target')\n",
        "ax.set_ylabel('')\n",
        "plt.savefig('targetdiagramforpie')\n",
        "plt.show()\n",
        "# cf=RandomForestClassifier(n_estimators=)\n"
      ],
      "execution_count": 0,
      "outputs": [
        {
          "output_type": "stream",
          "text": [
            "Index(['qid', 'question_text', 'target', 'num_words'], dtype='object')\n"
          ],
          "name": "stdout"
        },
        {
          "output_type": "display_data",
          "data": {
            "image/png": "[encoded data removed]",
            "text/plain": [
              "<Figure size 432x288 with 1 Axes>"
            ]
          },
          "metadata": {
            "tags": []
          }
        },
        {
          "output_type": "display_data",
          "data": {
            "image/png": "[encoded data removed]",
            "text/plain": [
              "<Figure size 432x288 with 1 Axes>"
            ]
          },
          "metadata": {
            "tags": []
          }
        }
      ]
    },
    {
      "metadata": {
        "id": "wMW8cc9QdMnk",
        "colab_type": "text"
      },
      "cell_type": "markdown",
      "source": [
        " # Histogram\n",
        " f,ax=plt.subplots(1,2,figsize=(20,10))\n",
        " train[train['target']==0].num_words.plot.hist(ax=ax[0],bins=20,edgecolor='black',color='red')\n",
        " ax[0].set_title('target=0')\n",
        " x1=list(range(0,85,5))\n",
        " f,ax=plt.subplots(1,2,figsize=(18,8))\n",
        " train[['target','num_words']].groupby(['target']).mean().plot().bar(ax=ax[0])\n",
        " ax[0].set_title('num vs target')\n",
        " sns.countplot('num_words',hue='target',data=train,ax=ax[1])\n",
        " ax[1].set_title('num_words:target=0 vs target=1')\n",
        " plt.show()"
      ]
    },
    {
      "metadata": {
        "id": "oxCw3CwxdMnt",
        "colab_type": "text"
      },
      "cell_type": "markdown",
      "source": [
        " # histogram"
      ]
    },
    {
      "metadata": {
        "id": "i5DbNQJ9dMnx",
        "colab_type": "code",
        "colab": {},
        "outputId": "4cf53c40-204b-43e1-9594-63fae87e57ea"
      },
      "cell_type": "code",
      "source": [
        "train.hist(figsize=(15,20))\n",
        "plt.figure()\n",
        "\n",
        "# #  Creating the histogram which can be used to make the "
      ],
      "execution_count": 0,
      "outputs": [
        {
          "output_type": "execute_result",
          "data": {
            "text/plain": [
              "<Figure size 432x288 with 0 Axes>"
            ]
          },
          "metadata": {
            "tags": []
          },
          "execution_count": 15
        },
        {
          "output_type": "display_data",
          "data": {
            "image/png": "[encoded data removed]",
            "text/plain": [
              "<Figure size 1080x1440 with 2 Axes>"
            ]
          },
          "metadata": {
            "tags": []
          }
        },
        {
          "output_type": "display_data",
          "data": {
            "text/plain": [
              "<Figure size 432x288 with 0 Axes>"
            ]
          },
          "metadata": {
            "tags": []
          }
        }
      ]
    },
    {
      "metadata": {
        "id": "MiMHa16GdMoP",
        "colab_type": "text"
      },
      "cell_type": "markdown",
      "source": [
        " # Making the violin plot"
      ]
    },
    {
      "metadata": {
        "id": "eOt_9dzQdMoS",
        "colab_type": "code",
        "colab": {},
        "outputId": "0afd2fe7-3a0f-4999-96ae-c6ef6aa515a7"
      },
      "cell_type": "code",
      "source": [
        "sns.violinplot(data=train,x='target',y='num_words')\n",
        "plt.savefig('violinplot')\n"
      ],
      "execution_count": 0,
      "outputs": [
        {
          "output_type": "stream",
          "text": [
            "/usr/local/lib/python3.6/dist-packages/scipy/stats/stats.py:1713: FutureWarning: Using a non-tuple sequence for multidimensional indexing is deprecated; use `arr[tuple(seq)]` instead of `arr[seq]`. In the future this will be interpreted as an array index, `arr[np.array(seq)]`, which will result either in an error or a different result.\n",
            "  return np.add.reduce(sorted[indexer] * weights, axis=axis) / sumval\n"
          ],
          "name": "stderr"
        },
        {
          "output_type": "display_data",
          "data": {
            "image/png": "[encoded data removed]",
            "text/plain": [
              "<Figure size 432x288 with 1 Axes>"
            ]
          },
          "metadata": {
            "tags": []
          }
        }
      ]
    },
    {
      "metadata": {
        "id": "ho7N8hiLdMoh",
        "colab_type": "text"
      },
      "cell_type": "markdown",
      "source": [
        " # Making the kde plot"
      ]
    },
    {
      "metadata": {
        "id": "Z9g3sL3RdMol",
        "colab_type": "code",
        "colab": {},
        "outputId": "f8f2a761-a979-4ce9-c82f-4c86d423150a"
      },
      "cell_type": "code",
      "source": [
        "sns.FacetGrid(train,hue=\"target\",size=5).map(sns.kdeplot,\"num_words\").add_legend()\n",
        "plt.savefig('facetgrid-target')\n",
        "plt.show()\n"
      ],
      "execution_count": 0,
      "outputs": [
        {
          "output_type": "stream",
          "text": [
            "/home/rahul/.local/lib/python3.6/site-packages/seaborn/axisgrid.py:230: UserWarning: The `size` paramter has been renamed to `height`; please update your code.\n",
            "  warnings.warn(msg, UserWarning)\n"
          ],
          "name": "stderr"
        },
        {
          "output_type": "display_data",
          "data": {
            "image/png": "[encoded data removed]",
            "text/plain": [
              "<Figure size 405.725x360 with 1 Axes>"
            ]
          },
          "metadata": {
            "tags": []
          }
        }
      ]
    },
    {
      "metadata": {
        "id": "wvHWlC73dMo3",
        "colab_type": "text"
      },
      "cell_type": "markdown",
      "source": [
        " # Box Plot"
      ]
    },
    {
      "metadata": {
        "id": "cauwv2GAdMo6",
        "colab_type": "code",
        "colab": {},
        "outputId": "5d90e003-1a19-411b-c456-fe83c28471c8"
      },
      "cell_type": "code",
      "source": [
        "train['num_words'].loc[train['num_words']>60]=60\n",
        "axes=sns.boxplot(x='target',y='num_words',data=train)\n",
        "axes.set_xlabel('Target',fontsize=12)\n",
        "axes.set_title(\"No of words in each class\",fontsize=15)\n",
        "plt.savefig('target-numwords')\n",
        "plt.show()\n",
        "\n",
        "# # How to Generate the Word Cloud in the d plotting we will be going to make the commit \n",
        "# eng_stopwords=set(stopwords.words(\"english\"))\n",
        "# def generate_wordcloud(text): \n",
        "#     wordcloud = wc(relative_scaling = 1.0,stopwords = eng_stopwords).generate(text)\n",
        "#     fig,ax = plt.subplots(1,1,figsize=(10,10))\n",
        "#     ax.imshow(wordcloud, interpolation='bilinear')\n",
        "#     ax.axis(\"off\")\n",
        "#     ax.margins(x=0, y=0)\n",
        "#     plt.show()\n",
        "# text=' '.join(train.question_text)\n",
        "# generate_wordcloud(text)\n",
        "\n",
        "\n",
        "\n"
      ],
      "execution_count": 0,
      "outputs": [
        {
          "output_type": "stream",
          "text": [
            "/home/rahul/.local/lib/python3.6/site-packages/pandas/core/indexing.py:189: SettingWithCopyWarning: \n",
            "A value is trying to be set on a copy of a slice from a DataFrame\n",
            "\n",
            "See the caveats in the documentation: http://pandas.pydata.org/pandas-docs/stable/indexing.html#indexing-view-versus-copy\n",
            "  self._setitem_with_indexer(indexer, value)\n"
          ],
          "name": "stderr"
        },
        {
          "output_type": "display_data",
          "data": {
            "image/png": "[encoded data removed]",
            "text/plain": [
              "<Figure size 432x288 with 1 Axes>"
            ]
          },
          "metadata": {
            "tags": []
          }
        }
      ]
    },
    {
      "metadata": {
        "id": "i-iSy0T3dMpD",
        "colab_type": "code",
        "colab": {}
      },
      "cell_type": "code",
      "source": [
        ""
      ],
      "execution_count": 0,
      "outputs": []
    }
  ]
}